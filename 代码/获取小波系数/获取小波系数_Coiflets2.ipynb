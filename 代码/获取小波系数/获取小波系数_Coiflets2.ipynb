{
 "cells": [
  {
   "cell_type": "code",
   "execution_count": 1,
   "id": "initial_id",
   "metadata": {
    "collapsed": true,
    "ExecuteTime": {
     "end_time": "2024-03-21T06:50:16.655366400Z",
     "start_time": "2024-03-21T06:50:16.221977900Z"
    }
   },
   "outputs": [],
   "source": [
    "import pywt\n",
    "import cv2\n",
    "import numpy as np\n",
    "import os"
   ]
  },
  {
   "cell_type": "code",
   "outputs": [],
   "source": [
    "def save_wavelet_coeffs(coeffs, output_dir, filename):\n",
    "    # 确保输出目录存在\n",
    "    if not os.path.exists(output_dir):\n",
    "        os.makedirs(output_dir)\n",
    "    # 保存小波系数\n",
    "    np.savez_compressed(os.path.join(output_dir, filename), cA=coeffs[0], cH=coeffs[1], cV=coeffs[2], cD=coeffs[3])"
   ],
   "metadata": {
    "collapsed": false,
    "ExecuteTime": {
     "end_time": "2024-03-21T06:50:17.163720200Z",
     "start_time": "2024-03-21T06:50:17.151721500Z"
    }
   },
   "id": "3105cc43334df710",
   "execution_count": 2
  },
  {
   "cell_type": "code",
   "outputs": [],
   "source": [
    "def apply_wavelet_transform(image_path):\n",
    "    # 使用OpenCV以彩色模式读取图像\n",
    "    image = cv2.imread(image_path)\n",
    "    # 对每个颜色通道应用二维离散小波变换\n",
    "    # coeffs返回一个元组：(cA, (cH, cV, cD))\n",
    "    # cA是近似系数，cH是水平细节系数，cV是垂直细节系数，cD是对角细节系数\n",
    "    coeffs_rgb = [pywt.dwt2(image[:, :, i], 'coif1') for i in range(3)]\n",
    "    # 分别处理每个通道的系数\n",
    "    cA_rgb = [coeffs[0] for coeffs in coeffs_rgb]\n",
    "    cH_rgb = [coeffs[1][0] for coeffs in coeffs_rgb]\n",
    "    cV_rgb = [coeffs[1][1] for coeffs in coeffs_rgb]\n",
    "    cD_rgb = [coeffs[1][2] for coeffs in coeffs_rgb]\n",
    "    return cA_rgb, cH_rgb, cV_rgb, cD_rgb"
   ],
   "metadata": {
    "collapsed": false,
    "ExecuteTime": {
     "end_time": "2024-03-21T06:50:17.753524900Z",
     "start_time": "2024-03-21T06:50:17.751529Z"
    }
   },
   "id": "3824d1dd8f74af74",
   "execution_count": 3
  },
  {
   "cell_type": "code",
   "outputs": [],
   "source": [
    "def process_images(input_dir, output_dir):\n",
    "    # 遍历输入目录下的所有文件\n",
    "    for filename in os.listdir(input_dir):\n",
    "        # 检查文件是否为图像文件（基于文件扩展名）\n",
    "        if filename.lower().endswith(('.png', '.jpg', '.jpeg', '.bmp', '.tif', '.tiff')):\n",
    "            # 构建图像的完整路径\n",
    "            img_path = os.path.join(input_dir, filename)\n",
    "            # 应用小波变换\n",
    "            cA_rgb, cH_rgb, cV_rgb, cD_rgb = apply_wavelet_transform(img_path)\n",
    "            # 保存小波系数\n",
    "            save_wavelet_coeffs((cA_rgb, cH_rgb, cV_rgb, cD_rgb), output_dir, os.path.splitext(filename)[0])"
   ],
   "metadata": {
    "collapsed": false,
    "ExecuteTime": {
     "end_time": "2024-03-21T06:50:18.493944Z",
     "start_time": "2024-03-21T06:50:18.475940Z"
    }
   },
   "id": "d9072516c56f01db",
   "execution_count": 4
  },
  {
   "cell_type": "code",
   "outputs": [],
   "source": [
    "# 定义图片数据集目录和小波系数保存目录\n",
    "input_dir = 'E:\\\\wavelet\\\\Image\\\\Flickr1024 Dataset\\\\Test_same_size'\n",
    "output_dir = 'E:\\\\wavelet\\\\wavelet coefficient\\\\source_coif1\\\\test'"
   ],
   "metadata": {
    "collapsed": false,
    "ExecuteTime": {
     "end_time": "2024-03-21T06:50:39.725392300Z",
     "start_time": "2024-03-21T06:50:39.718392600Z"
    }
   },
   "id": "7461bb23f798a502",
   "execution_count": 7
  },
  {
   "cell_type": "code",
   "outputs": [],
   "source": [
    "# 处理图像并保存小波系数\n",
    "process_images(input_dir, output_dir)"
   ],
   "metadata": {
    "collapsed": false,
    "ExecuteTime": {
     "end_time": "2024-03-21T06:50:44.387813700Z",
     "start_time": "2024-03-21T06:50:40.166203500Z"
    }
   },
   "id": "f8c7f0557b0b7a48",
   "execution_count": 8
  },
  {
   "cell_type": "code",
   "outputs": [],
   "source": [],
   "metadata": {
    "collapsed": false
   },
   "id": "ecf1df4f2dd9ec5d"
  }
 ],
 "metadata": {
  "kernelspec": {
   "display_name": "Python 3",
   "language": "python",
   "name": "python3"
  },
  "language_info": {
   "codemirror_mode": {
    "name": "ipython",
    "version": 2
   },
   "file_extension": ".py",
   "mimetype": "text/x-python",
   "name": "python",
   "nbconvert_exporter": "python",
   "pygments_lexer": "ipython2",
   "version": "2.7.6"
  }
 },
 "nbformat": 4,
 "nbformat_minor": 5
}
