{
 "cells": [
  {
   "cell_type": "code",
   "execution_count": 13,
   "id": "e1d88c2beaed3773",
   "metadata": {
    "collapsed": false,
    "ExecuteTime": {
     "end_time": "2024-03-12T10:53:41.744782900Z",
     "start_time": "2024-03-12T10:53:41.719805400Z"
    }
   },
   "outputs": [],
   "source": [
    "import os\n",
    "import numpy as np\n",
    "import pandas as pd\n",
    "from sklearn.model_selection import train_test_split, GridSearchCV\n",
    "from sklearn.ensemble import RandomForestRegressor\n",
    "from sklearn.metrics import mean_squared_error"
   ]
  },
  {
   "cell_type": "markdown",
   "source": [
    "# 1.载入数据"
   ],
   "metadata": {
    "collapsed": false
   },
   "id": "50f159d70b087e11"
  },
  {
   "cell_type": "code",
   "outputs": [],
   "source": [
    "def load_data(clean_csv_folder, noisy_csv_folder):\n",
    "    clean_data_frames = []\n",
    "    noisy_data_frames = []\n",
    "    \n",
    "    for filename in os.listdir(clean_csv_folder):\n",
    "        if filename.endswith('.csv'):\n",
    "            clean_csv_path = os.path.join(clean_csv_folder, filename)\n",
    "            noisy_csv_path = os.path.join(noisy_csv_folder, filename)\n",
    "            \n",
    "            clean_df = pd.read_csv(clean_csv_path)\n",
    "            noisy_df = pd.read_csv(noisy_csv_path)\n",
    "            \n",
    "            clean_data_frames.append(clean_df)\n",
    "            noisy_data_frames.append(noisy_df)\n",
    "    \n",
    "    # 合并所有DataFrame为单一DataFrame\n",
    "    clean_data = pd.concat(clean_data_frames, ignore_index=True)\n",
    "    noisy_data = pd.concat(noisy_data_frames, ignore_index=True)\n",
    "    \n",
    "    return clean_data.values, noisy_data.values\n",
    "\n",
    "clean_csv_folder = 'path_to_clean_csv_folder'  # Update this path\n",
    "noisy_csv_folder = 'path_to_noisy_csv_folder'  # Update this path\n",
    "clean_data, noisy_data = load_data(clean_csv_folder, noisy_csv_folder)"
   ],
   "metadata": {
    "collapsed": false,
    "ExecuteTime": {
     "end_time": "2024-03-12T10:53:43.170572800Z",
     "start_time": "2024-03-12T10:53:43.117606400Z"
    }
   },
   "id": "b78988d35e0609ac",
   "execution_count": 14
  },
  {
   "cell_type": "markdown",
   "source": [
    "# 2.划分数据集"
   ],
   "metadata": {
    "collapsed": false
   },
   "id": "b74b1eab01591485"
  },
  {
   "cell_type": "code",
   "outputs": [],
   "source": [
    "X_train, X_test, y_train, y_test = train_test_split(noisy_data, clean_data, test_size=0.2, random_state=42)"
   ],
   "metadata": {
    "collapsed": false,
    "ExecuteTime": {
     "end_time": "2024-03-12T10:53:44.981368Z",
     "start_time": "2024-03-12T10:53:44.957374400Z"
    }
   },
   "id": "bf7dc79eec3464f5",
   "execution_count": 15
  },
  {
   "cell_type": "markdown",
   "source": [
    "# 3.设置网格搜索参数"
   ],
   "metadata": {
    "collapsed": false
   },
   "id": "d9d805877dc387bd"
  },
  {
   "cell_type": "code",
   "outputs": [
    {
     "name": "stdout",
     "output_type": "stream",
     "text": [
      "Fitting 3 folds for each of 36 candidates, totalling 108 fits\n",
      "[CV] END max_depth=None, min_samples_split=2, n_estimators=100; total time=   9.5s\n",
      "[CV] END max_depth=None, min_samples_split=2, n_estimators=100; total time=   9.4s\n",
      "[CV] END max_depth=None, min_samples_split=2, n_estimators=100; total time=   9.1s\n",
      "[CV] END max_depth=None, min_samples_split=2, n_estimators=200; total time=  18.6s\n",
      "[CV] END max_depth=None, min_samples_split=2, n_estimators=200; total time=  18.8s\n",
      "[CV] END max_depth=None, min_samples_split=2, n_estimators=200; total time=  18.5s\n",
      "[CV] END max_depth=None, min_samples_split=2, n_estimators=300; total time=  28.8s\n",
      "[CV] END max_depth=None, min_samples_split=2, n_estimators=300; total time=  29.3s\n",
      "[CV] END max_depth=None, min_samples_split=2, n_estimators=300; total time=  28.1s\n",
      "[CV] END max_depth=None, min_samples_split=4, n_estimators=100; total time=   8.6s\n",
      "[CV] END max_depth=None, min_samples_split=4, n_estimators=100; total time=   8.8s\n",
      "[CV] END max_depth=None, min_samples_split=4, n_estimators=100; total time=   8.5s\n",
      "[CV] END max_depth=None, min_samples_split=4, n_estimators=200; total time=  17.1s\n",
      "[CV] END max_depth=None, min_samples_split=4, n_estimators=200; total time=  17.3s\n",
      "[CV] END max_depth=None, min_samples_split=4, n_estimators=200; total time=  17.5s\n",
      "[CV] END max_depth=None, min_samples_split=4, n_estimators=300; total time=  25.9s\n",
      "[CV] END max_depth=None, min_samples_split=4, n_estimators=300; total time=  26.0s\n",
      "[CV] END max_depth=None, min_samples_split=4, n_estimators=300; total time=  25.6s\n",
      "[CV] END max_depth=None, min_samples_split=6, n_estimators=100; total time=   7.9s\n",
      "[CV] END max_depth=None, min_samples_split=6, n_estimators=100; total time=   8.1s\n",
      "[CV] END max_depth=None, min_samples_split=6, n_estimators=100; total time=   7.7s\n",
      "[CV] END max_depth=None, min_samples_split=6, n_estimators=200; total time=  15.4s\n",
      "[CV] END max_depth=None, min_samples_split=6, n_estimators=200; total time=  16.2s\n",
      "[CV] END max_depth=None, min_samples_split=6, n_estimators=200; total time=  15.2s\n",
      "[CV] END max_depth=None, min_samples_split=6, n_estimators=300; total time=  24.2s\n",
      "[CV] END max_depth=None, min_samples_split=6, n_estimators=300; total time=  24.5s\n",
      "[CV] END max_depth=None, min_samples_split=6, n_estimators=300; total time=  24.1s\n",
      "[CV] END max_depth=10, min_samples_split=2, n_estimators=100; total time=   8.8s\n",
      "[CV] END max_depth=10, min_samples_split=2, n_estimators=100; total time=   8.7s\n",
      "[CV] END max_depth=10, min_samples_split=2, n_estimators=100; total time=   9.1s\n",
      "[CV] END max_depth=10, min_samples_split=2, n_estimators=200; total time=  17.6s\n",
      "[CV] END max_depth=10, min_samples_split=2, n_estimators=200; total time=  18.2s\n",
      "[CV] END max_depth=10, min_samples_split=2, n_estimators=200; total time=  17.4s\n",
      "[CV] END max_depth=10, min_samples_split=2, n_estimators=300; total time=  26.1s\n",
      "[CV] END max_depth=10, min_samples_split=2, n_estimators=300; total time=  26.2s\n",
      "[CV] END max_depth=10, min_samples_split=2, n_estimators=300; total time=  25.8s\n",
      "[CV] END max_depth=10, min_samples_split=4, n_estimators=100; total time=   8.0s\n",
      "[CV] END max_depth=10, min_samples_split=4, n_estimators=100; total time=   8.0s\n",
      "[CV] END max_depth=10, min_samples_split=4, n_estimators=100; total time=   7.9s\n",
      "[CV] END max_depth=10, min_samples_split=4, n_estimators=200; total time=  16.0s\n",
      "[CV] END max_depth=10, min_samples_split=4, n_estimators=200; total time=  16.0s\n",
      "[CV] END max_depth=10, min_samples_split=4, n_estimators=200; total time=  16.1s\n",
      "[CV] END max_depth=10, min_samples_split=4, n_estimators=300; total time=  24.2s\n",
      "[CV] END max_depth=10, min_samples_split=4, n_estimators=300; total time=  24.4s\n",
      "[CV] END max_depth=10, min_samples_split=4, n_estimators=300; total time=  24.5s\n",
      "[CV] END max_depth=10, min_samples_split=6, n_estimators=100; total time=   7.6s\n",
      "[CV] END max_depth=10, min_samples_split=6, n_estimators=100; total time=   7.5s\n",
      "[CV] END max_depth=10, min_samples_split=6, n_estimators=100; total time=   7.7s\n",
      "[CV] END max_depth=10, min_samples_split=6, n_estimators=200; total time=  15.6s\n",
      "[CV] END max_depth=10, min_samples_split=6, n_estimators=200; total time=  15.3s\n",
      "[CV] END max_depth=10, min_samples_split=6, n_estimators=200; total time=  14.9s\n",
      "[CV] END max_depth=10, min_samples_split=6, n_estimators=300; total time=  22.9s\n",
      "[CV] END max_depth=10, min_samples_split=6, n_estimators=300; total time=  23.0s\n",
      "[CV] END max_depth=10, min_samples_split=6, n_estimators=300; total time=  22.6s\n",
      "[CV] END max_depth=20, min_samples_split=2, n_estimators=100; total time=   9.2s\n",
      "[CV] END max_depth=20, min_samples_split=2, n_estimators=100; total time=   9.6s\n",
      "[CV] END max_depth=20, min_samples_split=2, n_estimators=100; total time=   9.3s\n",
      "[CV] END max_depth=20, min_samples_split=2, n_estimators=200; total time=  18.4s\n",
      "[CV] END max_depth=20, min_samples_split=2, n_estimators=200; total time=  19.2s\n",
      "[CV] END max_depth=20, min_samples_split=2, n_estimators=200; total time=  18.5s\n",
      "[CV] END max_depth=20, min_samples_split=2, n_estimators=300; total time=  28.0s\n",
      "[CV] END max_depth=20, min_samples_split=2, n_estimators=300; total time=  28.7s\n",
      "[CV] END max_depth=20, min_samples_split=2, n_estimators=300; total time=  27.7s\n",
      "[CV] END max_depth=20, min_samples_split=4, n_estimators=100; total time=   8.2s\n",
      "[CV] END max_depth=20, min_samples_split=4, n_estimators=100; total time=   8.8s\n",
      "[CV] END max_depth=20, min_samples_split=4, n_estimators=100; total time=   8.2s\n",
      "[CV] END max_depth=20, min_samples_split=4, n_estimators=200; total time=  16.8s\n",
      "[CV] END max_depth=20, min_samples_split=4, n_estimators=200; total time=  17.2s\n",
      "[CV] END max_depth=20, min_samples_split=4, n_estimators=200; total time=  16.5s\n",
      "[CV] END max_depth=20, min_samples_split=4, n_estimators=300; total time=  25.6s\n",
      "[CV] END max_depth=20, min_samples_split=4, n_estimators=300; total time=  26.5s\n",
      "[CV] END max_depth=20, min_samples_split=4, n_estimators=300; total time=  25.5s\n",
      "[CV] END max_depth=20, min_samples_split=6, n_estimators=100; total time=   7.8s\n",
      "[CV] END max_depth=20, min_samples_split=6, n_estimators=100; total time=   7.9s\n",
      "[CV] END max_depth=20, min_samples_split=6, n_estimators=100; total time=   7.9s\n",
      "[CV] END max_depth=20, min_samples_split=6, n_estimators=200; total time=  15.7s\n",
      "[CV] END max_depth=20, min_samples_split=6, n_estimators=200; total time=  16.0s\n",
      "[CV] END max_depth=20, min_samples_split=6, n_estimators=200; total time=  15.4s\n",
      "[CV] END max_depth=20, min_samples_split=6, n_estimators=300; total time=  24.2s\n",
      "[CV] END max_depth=20, min_samples_split=6, n_estimators=300; total time=  24.6s\n",
      "[CV] END max_depth=20, min_samples_split=6, n_estimators=300; total time=  23.5s\n",
      "[CV] END max_depth=30, min_samples_split=2, n_estimators=100; total time=   9.3s\n",
      "[CV] END max_depth=30, min_samples_split=2, n_estimators=100; total time=   9.8s\n",
      "[CV] END max_depth=30, min_samples_split=2, n_estimators=100; total time=   9.2s\n",
      "[CV] END max_depth=30, min_samples_split=2, n_estimators=200; total time=  18.6s\n",
      "[CV] END max_depth=30, min_samples_split=2, n_estimators=200; total time=  19.4s\n",
      "[CV] END max_depth=30, min_samples_split=2, n_estimators=200; total time=  18.7s\n",
      "[CV] END max_depth=30, min_samples_split=2, n_estimators=300; total time=  28.7s\n",
      "[CV] END max_depth=30, min_samples_split=2, n_estimators=300; total time=  30.3s\n",
      "[CV] END max_depth=30, min_samples_split=2, n_estimators=300; total time=  28.6s\n",
      "[CV] END max_depth=30, min_samples_split=4, n_estimators=100; total time=   8.6s\n",
      "[CV] END max_depth=30, min_samples_split=4, n_estimators=100; total time=   9.0s\n",
      "[CV] END max_depth=30, min_samples_split=4, n_estimators=100; total time=   8.3s\n",
      "[CV] END max_depth=30, min_samples_split=4, n_estimators=200; total time=  17.1s\n",
      "[CV] END max_depth=30, min_samples_split=4, n_estimators=200; total time=  17.3s\n",
      "[CV] END max_depth=30, min_samples_split=4, n_estimators=200; total time=  16.9s\n",
      "[CV] END max_depth=30, min_samples_split=4, n_estimators=300; total time=  25.6s\n",
      "[CV] END max_depth=30, min_samples_split=4, n_estimators=300; total time=  26.5s\n",
      "[CV] END max_depth=30, min_samples_split=4, n_estimators=300; total time=  25.3s\n",
      "[CV] END max_depth=30, min_samples_split=6, n_estimators=100; total time=   7.9s\n",
      "[CV] END max_depth=30, min_samples_split=6, n_estimators=100; total time=   8.0s\n",
      "[CV] END max_depth=30, min_samples_split=6, n_estimators=100; total time=   7.8s\n",
      "[CV] END max_depth=30, min_samples_split=6, n_estimators=200; total time=  15.6s\n",
      "[CV] END max_depth=30, min_samples_split=6, n_estimators=200; total time=  16.2s\n",
      "[CV] END max_depth=30, min_samples_split=6, n_estimators=200; total time=  15.2s\n",
      "[CV] END max_depth=30, min_samples_split=6, n_estimators=300; total time=  24.0s\n",
      "[CV] END max_depth=30, min_samples_split=6, n_estimators=300; total time=  24.4s\n",
      "[CV] END max_depth=30, min_samples_split=6, n_estimators=300; total time=  23.1s\n",
      "Best parameters found: {'max_depth': 20, 'min_samples_split': 2, 'n_estimators': 300}\n"
     ]
    }
   ],
   "source": [
    "param_grid = {\n",
    "    'n_estimators': [100, 200, 300],\n",
    "    'max_depth': [None, 10, 20, 30],\n",
    "    'min_samples_split': [2, 4, 6]\n",
    "}\n",
    "\n",
    "# 初始化随机森林回归器\n",
    "rf = RandomForestRegressor(random_state=42)\n",
    "\n",
    "# 初始化网格搜索\n",
    "grid_search = GridSearchCV(estimator=rf, param_grid=param_grid, cv=3, scoring='neg_mean_squared_error', verbose=2)\n",
    "\n",
    "# 执行网格搜索\n",
    "grid_search.fit(X_train, y_train)\n",
    "\n",
    "# 输出最佳参数\n",
    "print(f\"Best parameters found: {grid_search.best_params_}\")\n",
    "\n",
    "# 使用最佳参数的模型进行预测\n",
    "y_pred = grid_search.best_estimator_.predict(X_test)"
   ],
   "metadata": {
    "collapsed": false,
    "ExecuteTime": {
     "end_time": "2024-03-12T11:25:27.415295400Z",
     "start_time": "2024-03-12T10:53:46.268130500Z"
    }
   },
   "id": "c43cf723272b4436",
   "execution_count": 16
  },
  {
   "cell_type": "markdown",
   "source": [
    "# 4.模型评估"
   ],
   "metadata": {
    "collapsed": false
   },
   "id": "762c3ea921e1e071"
  },
  {
   "cell_type": "code",
   "outputs": [
    {
     "name": "stdout",
     "output_type": "stream",
     "text": [
      "Mean Squared Error: 10116902.892913902\n"
     ]
    }
   ],
   "source": [
    "mse = mean_squared_error(y_test, y_pred)\n",
    "print(f\"Mean Squared Error: {mse}\")"
   ],
   "metadata": {
    "collapsed": false,
    "ExecuteTime": {
     "end_time": "2024-03-12T11:26:23.540245200Z",
     "start_time": "2024-03-12T11:26:23.531584300Z"
    }
   },
   "id": "2a3feece30b2ec4e",
   "execution_count": 17
  },
  {
   "cell_type": "code",
   "outputs": [],
   "source": [],
   "metadata": {
    "collapsed": false
   },
   "id": "cbcb6ad8c0a195ee"
  }
 ],
 "metadata": {
  "kernelspec": {
   "display_name": "Python 3",
   "language": "python",
   "name": "python3"
  },
  "language_info": {
   "codemirror_mode": {
    "name": "ipython",
    "version": 2
   },
   "file_extension": ".py",
   "mimetype": "text/x-python",
   "name": "python",
   "nbconvert_exporter": "python",
   "pygments_lexer": "ipython2",
   "version": "2.7.6"
  }
 },
 "nbformat": 4,
 "nbformat_minor": 5
}
