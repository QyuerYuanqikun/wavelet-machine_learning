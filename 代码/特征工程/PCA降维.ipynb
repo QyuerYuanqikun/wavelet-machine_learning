{
 "cells": [
  {
   "cell_type": "markdown",
   "source": [
    "# 1.展开小波系数"
   ],
   "metadata": {
    "collapsed": false
   },
   "id": "dd7f8b18690876de"
  },
  {
   "cell_type": "code",
   "outputs": [
    {
     "name": "stdout",
     "output_type": "stream",
     "text": [
      "Flattened coefficients shape: (786432,)\n"
     ]
    }
   ],
   "source": [
    "import numpy as np\n",
    "import os\n",
    "\n",
    "def load_and_flatten_coeffs(npz_file_path):\n",
    "    data = np.load(npz_file_path)\n",
    "    # 分别获取cA, cH, cV, cD数组\n",
    "    cA = data['cA'].flatten()\n",
    "    cH = data['cH'].flatten()\n",
    "    cV = data['cV'].flatten()\n",
    "    cD = data['cD'].flatten()\n",
    "    # 将它们合并成一个长数组\n",
    "    flattened_coeffs = np.concatenate([cA, cH, cV, cD])\n",
    "    return flattened_coeffs\n",
    "\n",
    "# 示例：处理一个npz文件\n",
    "file_path = 'E:\\\\wavelet\\\\wavelet coefficient\\\\Gauss\\\\test\\\\001_L.npz'\n",
    "flattened_coeffs = load_and_flatten_coeffs(file_path)\n",
    "print(f\"Flattened coefficients shape: {flattened_coeffs.shape}\")"
   ],
   "metadata": {
    "collapsed": false,
    "ExecuteTime": {
     "end_time": "2024-03-12T10:38:12.351790700Z",
     "start_time": "2024-03-12T10:38:12.313731300Z"
    }
   },
   "id": "9872471a824c832b",
   "execution_count": 11
  },
  {
   "cell_type": "markdown",
   "source": [
    "# 2.处理整个文件夹"
   ],
   "metadata": {
    "collapsed": false
   },
   "id": "5d5946e17acc617d"
  },
  {
   "cell_type": "code",
   "outputs": [
    {
     "name": "stdout",
     "output_type": "stream",
     "text": [
      "Processed (224, 786432) files.\n"
     ]
    }
   ],
   "source": [
    "def process_folder(folder_path):\n",
    "    all_coeffs = []\n",
    "    for file in os.listdir(folder_path):\n",
    "        if file.endswith('.npz'):\n",
    "            file_path = os.path.join(folder_path, file)\n",
    "            flattened_coeffs = load_and_flatten_coeffs(file_path)\n",
    "            all_coeffs.append(flattened_coeffs)\n",
    "    return np.array(all_coeffs)\n",
    "\n",
    "# 指定文件夹路径\n",
    "folder_path = 'E:\\\\wavelet\\\\wavelet coefficient\\\\Gauss\\\\test'\n",
    "all_coeffs = process_folder(folder_path)\n",
    "print(f\"Processed {all_coeffs.shape} files.\")"
   ],
   "metadata": {
    "collapsed": false,
    "ExecuteTime": {
     "end_time": "2024-03-12T10:53:09.837369100Z",
     "start_time": "2024-03-12T10:53:04.499287400Z"
    }
   },
   "id": "dc08eb1d530d42a7",
   "execution_count": 17
  },
  {
   "cell_type": "markdown",
   "source": [
    "# 3.PCA降维并保存数据"
   ],
   "metadata": {
    "collapsed": false
   },
   "id": "c795265631311b26"
  },
  {
   "cell_type": "code",
   "outputs": [
    {
     "name": "stdout",
     "output_type": "stream",
     "text": [
      "Saved PCA-transformed data with shape: (224, 224)\n"
     ]
    }
   ],
   "source": [
    "from sklearn.decomposition import PCA\n",
    "\n",
    "def apply_pca_and_save(all_coeffs, output_path, n_components=100):\n",
    "    # 应用PCA降维\n",
    "    pca = PCA(n_components=n_components)\n",
    "    transformed_coeffs = pca.fit_transform(all_coeffs)\n",
    "    \n",
    "    # 保存降维后的数据\n",
    "    np.savez_compressed(output_path, transformed_coeffs=transformed_coeffs)\n",
    "    print(f\"Saved PCA-transformed data with shape: {transformed_coeffs.shape}\")\n",
    "\n",
    "# 使用前面处理好的所有系数\n",
    "# all_coeffs = process_folder(folder_path) # 这一步已经完成\n",
    "\n",
    "# 定义输出路径\n",
    "output_path = 'E:\\\\wavelet\\\\wavelet coefficient\\\\Gauss\\\\test_Gauss_flat_PCA\\\\wavelet_coefficient_Gauss_PCA.npz'\n",
    "\n",
    "# 应用PCA降维并保存\n",
    "apply_pca_and_save(all_coeffs, output_path, n_components=224)"
   ],
   "metadata": {
    "collapsed": false,
    "ExecuteTime": {
     "end_time": "2024-03-12T10:53:29.779944700Z",
     "start_time": "2024-03-12T10:53:11.159384400Z"
    }
   },
   "id": "8a7a443eff2e5d4",
   "execution_count": 18
  },
  {
   "cell_type": "code",
   "outputs": [],
   "source": [],
   "metadata": {
    "collapsed": false
   },
   "id": "ff885ab29f054c42"
  }
 ],
 "metadata": {
  "kernelspec": {
   "display_name": "Python 3",
   "language": "python",
   "name": "python3"
  },
  "language_info": {
   "codemirror_mode": {
    "name": "ipython",
    "version": 2
   },
   "file_extension": ".py",
   "mimetype": "text/x-python",
   "name": "python",
   "nbconvert_exporter": "python",
   "pygments_lexer": "ipython2",
   "version": "2.7.6"
  }
 },
 "nbformat": 4,
 "nbformat_minor": 5
}
