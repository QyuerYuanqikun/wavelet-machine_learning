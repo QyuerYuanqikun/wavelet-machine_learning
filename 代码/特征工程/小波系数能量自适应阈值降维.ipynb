{
 "cells": [
  {
   "cell_type": "code",
   "execution_count": 1,
   "id": "7b608fd1adb25255",
   "metadata": {
    "collapsed": false,
    "ExecuteTime": {
     "end_time": "2024-03-15T02:26:18.575203300Z",
     "start_time": "2024-03-15T02:26:18.144782Z"
    }
   },
   "outputs": [],
   "source": [
    "import numpy as np\n",
    "import os\n",
    "import pandas as pd"
   ]
  },
  {
   "cell_type": "code",
   "outputs": [],
   "source": [
    "def load_coeffs(npz_file_path):\n",
    "    \"\"\"\n",
    "    从npz文件加载小波系数。\n",
    "    \"\"\"\n",
    "    data = np.load(npz_file_path)\n",
    "    return data['cA'], data['cH'], data['cV'], data['cD']"
   ],
   "metadata": {
    "collapsed": false,
    "ExecuteTime": {
     "end_time": "2024-03-15T02:26:19.303153300Z",
     "start_time": "2024-03-15T02:26:19.292152Z"
    }
   },
   "id": "605a18b3d31bef9a",
   "execution_count": 2
  },
  {
   "cell_type": "code",
   "outputs": [],
   "source": [
    "def adaptive_threshold(coeffs, ratio):\n",
    "    \"\"\"\n",
    "    基于系数的能量自适应确定阈值，并根据阈值过滤系数。\n",
    "    \"\"\"\n",
    "    coeff_flat = coeffs.flatten()\n",
    "    squared_energy = np.square(coeff_flat)\n",
    "    threshold = np.percentile(squared_energy, (1 - ratio) * 100)  # 基于能量百分位数确定阈值\n",
    "    filtered_coeffs = coeff_flat * (squared_energy >= threshold)  # 保留高于阈值的系数\n",
    "    return filtered_coeffs"
   ],
   "metadata": {
    "collapsed": false,
    "ExecuteTime": {
     "end_time": "2024-03-15T02:26:20.018917Z",
     "start_time": "2024-03-15T02:26:20.003913800Z"
    }
   },
   "id": "977ecaf0eb36237d",
   "execution_count": 3
  },
  {
   "cell_type": "code",
   "outputs": [],
   "source": [
    "def adjust_and_reduce_coeffs(coeffs, target_dims, ratio):\n",
    "    \"\"\"\n",
    "    调整不同类型系数的能量比重，并应用自适应阈值进行降维。\n",
    "    \"\"\"\n",
    "    reduced_coeffs = []\n",
    "    for i, coeff in enumerate(coeffs):\n",
    "        # 应用自适应阈值过滤\n",
    "        filtered_coeffs = adaptive_threshold(coeff, ratio[i])\n",
    "        # 确保降维到指定的维度\n",
    "        reduced_coeffs.append(filtered_coeffs[:target_dims[i]])\n",
    "    return np.concatenate(reduced_coeffs)"
   ],
   "metadata": {
    "collapsed": false,
    "ExecuteTime": {
     "end_time": "2024-03-15T03:00:11.042649300Z",
     "start_time": "2024-03-15T03:00:11.031650400Z"
    }
   },
   "id": "70932b5bad51bf22",
   "execution_count": 10
  },
  {
   "cell_type": "code",
   "outputs": [],
   "source": [
    "def process_folder(input_dir, output_dir, target_dims, ratio):\n",
    "    \"\"\"\n",
    "    处理文件夹中的所有npz文件，并保存降维后的系数。\n",
    "    \"\"\"\n",
    "    if not os.path.exists(output_dir):\n",
    "        os.makedirs(output_dir)\n",
    "    \n",
    "    for filename in os.listdir(input_dir):\n",
    "        if filename.lower().endswith('.npz'):\n",
    "            file_path = os.path.join(input_dir, filename)\n",
    "            cA, cH, cV, cD = load_coeffs(file_path)\n",
    "            coeffs = [cA, cH, cV, cD]\n",
    "            reduced_coeffs = adjust_and_reduce_coeffs(coeffs, target_dims, ratio)\n",
    "            \n",
    "            # 保存为Pandas DataFrame，适用于随机森林训练\n",
    "            df = pd.DataFrame(reduced_coeffs.reshape(1, -1))\n",
    "            output_file_path = os.path.join(output_dir, filename.replace('.npz', '.csv'))\n",
    "            df.to_csv(output_file_path, index=False)"
   ],
   "metadata": {
    "collapsed": false,
    "ExecuteTime": {
     "end_time": "2024-03-15T03:00:11.951258600Z",
     "start_time": "2024-03-15T03:00:11.937204500Z"
    }
   },
   "id": "5c7f7e2d738fd889",
   "execution_count": 11
  },
  {
   "cell_type": "code",
   "outputs": [],
   "source": [
    "# 示例用法\n",
    "input_dir = 'E:\\\\wavelet\\\\wavelet coefficient\\\\source\\\\test'\n",
    "output_dir = 'E:\\\\wavelet\\\\wavelet coefficient\\\\source\\\\test_source_小波系数能量自适应阈值降维'\n",
    "target_dims = [50, 16, 16, 17]  # 设置每种类型系数的目标维度\n",
    "ratio = [0.9, 0.8, 0.8, 0.8]  # 设置自适应阈值的保留比例\n",
    "process_folder(input_dir, output_dir, target_dims, ratio)"
   ],
   "metadata": {
    "collapsed": true,
    "ExecuteTime": {
     "end_time": "2024-03-15T03:13:23.624941700Z",
     "start_time": "2024-03-15T03:13:22.552539500Z"
    }
   },
   "id": "initial_id",
   "execution_count": 16
  },
  {
   "cell_type": "code",
   "outputs": [],
   "source": [],
   "metadata": {
    "collapsed": false
   },
   "id": "95c2aecffad11da2"
  }
 ],
 "metadata": {
  "kernelspec": {
   "display_name": "Python 3",
   "language": "python",
   "name": "python3"
  },
  "language_info": {
   "codemirror_mode": {
    "name": "ipython",
    "version": 2
   },
   "file_extension": ".py",
   "mimetype": "text/x-python",
   "name": "python",
   "nbconvert_exporter": "python",
   "pygments_lexer": "ipython2",
   "version": "2.7.6"
  }
 },
 "nbformat": 4,
 "nbformat_minor": 5
}
