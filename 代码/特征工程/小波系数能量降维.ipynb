{
 "cells": [
  {
   "cell_type": "code",
   "execution_count": null,
   "id": "7cb435424b00ec62",
   "metadata": {
    "collapsed": false
   },
   "outputs": [],
   "source": [
    "import numpy as np\n",
    "import os"
   ]
  },
  {
   "cell_type": "code",
   "outputs": [],
   "source": [
    "def load_coeffs(npz_file_path):\n",
    "    \"\"\"\n",
    "    从npz文件加载小波系数。\n",
    "    \n",
    "    参数:\n",
    "    npz_file_path: npz文件的路径。\n",
    "    \n",
    "    返回:\n",
    "    cA, cH, cV, cD: 近似系数、水平细节系数、垂直细节系数、对角细节系数。\n",
    "    \"\"\"\n",
    "    data = np.load(npz_file_path)  # 加载npz文件\n",
    "    cA = data['cA']  # 近似系数\n",
    "    cH = data['cH']  # 水平细节系数\n",
    "    cV = data['cV']  # 垂直细节系数\n",
    "    cD = data['cD']  # 对角细节系数\n",
    "    return cA, cH, cV, cD"
   ],
   "metadata": {
    "collapsed": false
   },
   "id": "f91aa348adf6693e",
   "execution_count": null
  },
  {
   "cell_type": "code",
   "outputs": [],
   "source": [
    "def reduce_dimensions_separately(coeffs, target_dims):\n",
    "    \"\"\"\n",
    "    分别对不同类型的小波系数进行降维。\n",
    "    \n",
    "    参数:\n",
    "    coeffs: 包含cA, cH, cV, cD的列表。\n",
    "    target_dims: 字典，指定每种系数的目标维度，例如{'cA': 600, 'cH': 133, 'cV': 133, 'cD': 134}。\n",
    "    \n",
    "    返回:\n",
    "    reduced_coeffs: 降维后的系数列表。\n",
    "    \"\"\"\n",
    "    reduced_coeffs = []  # 初始化降维后的系数列表\n",
    "    for i, coeff in enumerate(coeffs):\n",
    "        coeff_type = ['cA', 'cH', 'cV', 'cD'][i]  # 当前系数的类型\n",
    "        target_dim = target_dims[coeff_type]  # 获取当前系数类型的目标维度\n",
    "        \n",
    "        all_coeffs = coeff.flatten()  # 将系数矩阵平铺成一维数组\n",
    "        squared_energy = np.square(all_coeffs)  # 计算系数的能量（平方）\n",
    "        sorted_indices = np.argsort(-squared_energy)  # 按能量降序排序系数的索引\n",
    "        top_indices = sorted_indices[:target_dim]  # 选取能量最大的系数的索引\n",
    "        \n",
    "        reduced_coeff = np.zeros_like(all_coeffs)  # 创建全零数组，用于存放降维后的系数\n",
    "        np.put(reduced_coeff, top_indices, np.take(all_coeffs, top_indices))  # 仅在选定的索引位置放置原系数\n",
    "        \n",
    "        reduced_coeffs.append(reduced_coeff.reshape(coeff.shape))  # 将降维后的系数重塑回原始形状，并添加到列表\n",
    "    \n",
    "    return reduced_coeffs"
   ],
   "metadata": {
    "collapsed": false
   },
   "id": "1c5e60c0849890ff",
   "execution_count": null
  },
  {
   "cell_type": "code",
   "outputs": [],
   "source": [
    "def process_and_save_reduced_coeffs(input_dir, output_dir, target_dims):\n",
    "    \"\"\"\n",
    "    加载npz文件，对系数进行降维，然后保存降维后的结果。\n",
    "    \n",
    "    参数:\n",
    "    input_dir: 包含npz文件的输入目录。\n",
    "    output_dir: 保存降维后的npz文件的输出目录。\n",
    "    target_dims: 字典，指定每种系数的目标维度。\n",
    "    \"\"\"\n",
    "    if not os.path.exists(output_dir):\n",
    "        os.makedirs(output_dir)  # 如果输出目录不存在，则创建\n",
    "    \n",
    "    for filename in os.listdir(input_dir):  # 遍历输入目录中的所有文件\n",
    "        if filename.lower().endswith('.npz'):  # 确保文件是npz格式\n",
    "            npz_file_path = os.path.join(input_dir, filename)  # 构建完整的文件路径\n",
    "            cA, cH, cV, cD = load_coeffs(npz_file_path)  # 加载系数\n",
    "            reduced_coeffs = reduce_dimensions_separately([cA, cH, cV, cD], target_dims)  # 对系数进行降维\n",
    "            \n",
    "            # 构建输出文件的路径\n",
    "            output_filename = os.path.splitext(filename)[0] + '_reduced.npz'\n",
    "            output_file_path = os.path.join(output_dir, output_filename)\n",
    "            \n",
    "            # 保存降维后的系数到npz文件\n",
    "            np.savez_compressed(output_file_path, cA=reduced_coeffs[0], cH=reduced_coeffs[1], cV=reduced_coeffs[2], cD=reduced_coeffs[3])"
   ],
   "metadata": {
    "collapsed": false
   },
   "id": "1c53819ce3fb30fa",
   "execution_count": null
  },
  {
   "cell_type": "code",
   "outputs": [],
   "source": [
    "# 示例用法\n",
    "input_dir = 'path_to_your_npz_files'  # 替换为你的小波系数npz文件所在的目录路径\n",
    "output_dir = 'path_to_save_reduced_coeffs'  # 替换为你希望保存降维后系数的目录路径\n",
    "target_dims = {'cA': 600, 'cH': 133, 'cV': 133, 'cD': 134}  # 设置每种类型系数的目标维度\n",
    "\n",
    "process_and_save_reduced_coeffs(input_dir, output_dir, target_dims)  # 执行处理和保存操作\n"
   ],
   "metadata": {
    "collapsed": true
   },
   "id": "initial_id",
   "execution_count": 0
  }
 ],
 "metadata": {
  "kernelspec": {
   "display_name": "Python 3",
   "language": "python",
   "name": "python3"
  },
  "language_info": {
   "codemirror_mode": {
    "name": "ipython",
    "version": 2
   },
   "file_extension": ".py",
   "mimetype": "text/x-python",
   "name": "python",
   "nbconvert_exporter": "python",
   "pygments_lexer": "ipython2",
   "version": "2.7.6"
  }
 },
 "nbformat": 4,
 "nbformat_minor": 5
}
